{
  "nbformat": 4,
  "nbformat_minor": 0,
  "metadata": {
    "colab": {
      "provenance": [],
      "collapsed_sections": [],
      "authorship_tag": "ABX9TyP9+RJkhVH3uQeNbrgGuuVS"
    },
    "kernelspec": {
      "name": "python3",
      "display_name": "Python 3"
    },
    "language_info": {
      "name": "python"
    }
  },
  "cells": [
    {
      "cell_type": "code",
      "execution_count": 1,
      "metadata": {
        "id": "qx_GMhCw8kap"
      },
      "outputs": [],
      "source": [
        "import numpy as np\n",
        "from scipy import stats\n",
        "from scipy.stats import norm"
      ]
    },
    {
      "cell_type": "code",
      "source": [
        "# Apply One-Sample One-Tail z-test"
      ],
      "metadata": {
        "id": "Otl8rIbW8opI"
      },
      "execution_count": 2,
      "outputs": []
    },
    {
      "cell_type": "code",
      "source": [
        "z_scores=(0.046-0.05)/(np.sqrt((0.05*(1-0.05))/2000))\n",
        "z_scores"
      ],
      "metadata": {
        "colab": {
          "base_uri": "https://localhost:8080/"
        },
        "id": "RCESilyX8qDE",
        "outputId": "8a8f064f-6c35-4b6b-b1b3-67466a245807"
      },
      "execution_count": 3,
      "outputs": [
        {
          "output_type": "execute_result",
          "data": {
            "text/plain": [
              "-0.820782681668124"
            ]
          },
          "metadata": {},
          "execution_count": 3
        }
      ]
    },
    {
      "cell_type": "code",
      "source": [
        "# Find Probability assuming null hyposthesis, so as to compare with Type-1 error α = 0.05"
      ],
      "metadata": {
        "id": "NFE9iG418sjY"
      },
      "execution_count": 4,
      "outputs": []
    },
    {
      "cell_type": "code",
      "source": [
        "p_value=1-stats.norm.cdf(abs(z_scores))\n",
        "p_value"
      ],
      "metadata": {
        "colab": {
          "base_uri": "https://localhost:8080/"
        },
        "id": "tFoxxB8_8tIa",
        "outputId": "201226bd-22e9-4742-9f8f-618f051d8087"
      },
      "execution_count": 5,
      "outputs": [
        {
          "output_type": "execute_result",
          "data": {
            "text/plain": [
              "0.20588503245107104"
            ]
          },
          "metadata": {},
          "execution_count": 5
        }
      ]
    },
    {
      "cell_type": "code",
      "source": [],
      "metadata": {
        "id": "S8qUMJas8u3T"
      },
      "execution_count": null,
      "outputs": []
    }
  ]
}